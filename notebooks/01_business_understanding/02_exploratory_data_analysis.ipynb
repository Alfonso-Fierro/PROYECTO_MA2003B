{
 "cells": [
  {
   "cell_type": "markdown",
   "id": "0433e577",
   "metadata": {},
   "source": [
    "# Exploratory Data Analysis. Eda"
   ]
  },
  {
   "cell_type": "markdown",
   "id": "e73cd8bd",
   "metadata": {},
   "source": [
    "## Set CD to Root"
   ]
  },
  {
   "cell_type": "code",
   "execution_count": 2,
   "id": "14104171",
   "metadata": {},
   "outputs": [
    {
     "name": "stdout",
     "output_type": "stream",
     "text": [
      "Directorio actual: /home/ferrus/Documents/university/semester_x/MA2003B/PROYECTO_MA2003B/notebooks/01_business_understanding\n",
      "Raíz del proyecto: /home/ferrus/Documents/university/semester_x/MA2003B/PROYECTO_MA2003B\n",
      "CWD cambiado a raíz del proyecto\n"
     ]
    }
   ],
   "source": [
    "import os\n",
    "from pathlib import Path\n",
    "print(\"Directorio actual:\", os.getcwd())\n",
    "\n",
    "current_dir = Path.cwd()\n",
    "project_root = current_dir\n",
    "while not (project_root / '.git').exists() and project_root != project_root.parent:\n",
    "    project_root = project_root.parent\n",
    "    os.chdir(\"..\")\n",
    "\n",
    "print(f\"Raíz del proyecto: {project_root}\")\n",
    "print(\"CWD cambiado a raíz del proyecto\")\n"
   ]
  },
  {
   "cell_type": "markdown",
   "id": "04f91efd",
   "metadata": {},
   "source": [
    "## Read"
   ]
  },
  {
   "cell_type": "code",
   "execution_count": 3,
   "id": "4093222c",
   "metadata": {},
   "outputs": [],
   "source": [
    "import pandas as pd\n",
    "\n",
    "path_master_table = 'data/processed/master_table.csv'\n",
    "df_master_table = pd.read_csv(path_master_table)"
   ]
  },
  {
   "cell_type": "code",
   "execution_count": null,
   "id": "cc3f984c",
   "metadata": {},
   "outputs": [],
   "source": [
    "df_master_table"
   ]
  }
 ],
 "metadata": {
  "kernelspec": {
   "display_name": ".venv",
   "language": "python",
   "name": "python3"
  },
  "language_info": {
   "codemirror_mode": {
    "name": "ipython",
    "version": 3
   },
   "file_extension": ".py",
   "mimetype": "text/x-python",
   "name": "python",
   "nbconvert_exporter": "python",
   "pygments_lexer": "ipython3",
   "version": "3.12.3"
  }
 },
 "nbformat": 4,
 "nbformat_minor": 5
}
