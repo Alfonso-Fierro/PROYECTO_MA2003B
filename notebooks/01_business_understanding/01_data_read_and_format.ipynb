{
 "cells": [
  {
   "cell_type": "markdown",
   "id": "1ef921af",
   "metadata": {},
   "source": [
    "# Data Read and Formatting\n",
    "\n",
    "Notebook para la lectura de los datos y para su modificación de formato en archivos csv, con tablas individuales."
   ]
  },
  {
   "cell_type": "markdown",
   "id": "34652fee",
   "metadata": {},
   "source": [
    "## Path Configuration"
   ]
  },
  {
   "cell_type": "code",
   "execution_count": 4,
   "id": "a85140d4",
   "metadata": {},
   "outputs": [
    {
     "name": "stdout",
     "output_type": "stream",
     "text": [
      "Directorio actual: /home/ferrus/Documents/university/semester_x/MA2003B/PROYECTO_MA2003B\n",
      "Raíz del proyecto: /home/ferrus/Documents/university/semester_x/MA2003B/PROYECTO_MA2003B\n",
      "CWD cambiado a raíz del proyecto\n"
     ]
    }
   ],
   "source": [
    "import os\n",
    "from pathlib import Path\n",
    "print(\"Directorio actual:\", os.getcwd())\n",
    "\n",
    "current_dir = Path.cwd()\n",
    "project_root = current_dir\n",
    "while not (project_root / '.git').exists() and project_root != project_root.parent:\n",
    "    project_root = project_root.parent\n",
    "    os.chdir(\"..\")\n",
    "\n",
    "print(f\"Raíz del proyecto: {project_root}\")\n",
    "print(\"CWD cambiado a raíz del proyecto\")\n"
   ]
  },
  {
   "cell_type": "code",
   "execution_count": 6,
   "id": "949c80c6",
   "metadata": {},
   "outputs": [],
   "source": [
    "import pandas as pd\n",
    "\n",
    "#Paths\n",
    "\n",
    "path_2022_2023 = r\"data/raw/DATOS HISTÓRICOS 2022_2023_TODAS ESTACIONES.xlsx\"\n",
    "sheet_names = [\"SURESTE\", \"NORESTE\"]\n",
    "df = pd.read_excel(path_2022_2023,\n",
    "                   sheet_name = sheet_names[0])"
   ]
  }
 ],
 "metadata": {
  "kernelspec": {
   "display_name": ".venv",
   "language": "python",
   "name": "python3"
  },
  "language_info": {
   "codemirror_mode": {
    "name": "ipython",
    "version": 3
   },
   "file_extension": ".py",
   "mimetype": "text/x-python",
   "name": "python",
   "nbconvert_exporter": "python",
   "pygments_lexer": "ipython3",
   "version": "3.12.3"
  }
 },
 "nbformat": 4,
 "nbformat_minor": 5
}
